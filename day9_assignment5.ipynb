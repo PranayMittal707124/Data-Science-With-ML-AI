{
 "cells": [
  {
   "cell_type": "code",
   "execution_count": 1,
   "metadata": {},
   "outputs": [
    {
     "name": "stdout",
     "output_type": "stream",
     "text": [
      "The area of the circle is: 78.5\n"
     ]
    }
   ],
   "source": [
    "class Circle:\n",
    "    def __init__(self, radius):\n",
    "        self.radius = radius\n",
    "\n",
    "    def calculate_area(self):\n",
    "        return 3.14 * (self.radius ** 2)\n",
    "\n",
    "radius = float(input(\"Enter the radius of the circle: \"))\n",
    "circle = Circle(radius)\n",
    "area = circle.calculate_area()\n",
    "print(\"The area of the circle is:\", area)"
   ]
  },
  {
   "cell_type": "code",
   "execution_count": 2,
   "metadata": {},
   "outputs": [
    {
     "name": "stdout",
     "output_type": "stream",
     "text": [
      "The final price after discount is: 4.5\n"
     ]
    }
   ],
   "source": [
    "class PriceCalculator:\n",
    "    def calculate_discount(self, original_price, discount_percentage):\n",
    "        discount_amount = original_price * (discount_percentage / 100)\n",
    "        final_price = original_price - discount_amount\n",
    "        return final_price\n",
    "\n",
    "calculator = PriceCalculator()\n",
    "original_price = float(input(\"Enter the original price of the item: \"))\n",
    "discount_percentage = float(input(\"Enter the discount percentage: \"))\n",
    "final_price = calculator.calculate_discount(original_price, discount_percentage)\n",
    "print(\"The final price after discount is:\", final_price)"
   ]
  },
  {
   "cell_type": "code",
   "execution_count": 4,
   "metadata": {},
   "outputs": [
    {
     "name": "stdout",
     "output_type": "stream",
     "text": [
      "Number of vowels in the string: 2\n"
     ]
    }
   ],
   "source": [
    "class VowelCounter:\n",
    "    def count_vowels(self, input_string):\n",
    "        vowels = \"aeiouAEIOU\"\n",
    "        count = 0\n",
    "        for char in input_string:\n",
    "            if char in vowels:\n",
    "                count += 1\n",
    "        return count\n",
    "\n",
    "counter = VowelCounter()\n",
    "input_string = input(\"Enter a string: \")\n",
    "vowel_count = counter.count_vowels(input_string)\n",
    "print(\"Number of vowels in the string:\", vowel_count)"
   ]
  },
  {
   "cell_type": "code",
   "execution_count": null,
   "metadata": {},
   "outputs": [],
   "source": []
  }
 ],
 "metadata": {
  "kernelspec": {
   "display_name": "Python 3",
   "language": "python",
   "name": "python3"
  },
  "language_info": {
   "codemirror_mode": {
    "name": "ipython",
    "version": 3
   },
   "file_extension": ".py",
   "mimetype": "text/x-python",
   "name": "python",
   "nbconvert_exporter": "python",
   "pygments_lexer": "ipython3",
   "version": "3.12.3"
  }
 },
 "nbformat": 4,
 "nbformat_minor": 2
}
